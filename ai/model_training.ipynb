{
 "cells": [
  {
   "attachments": {},
   "cell_type": "markdown",
   "metadata": {},
   "source": [
    "Model built in Google Colab"
   ]
  },
  {
   "cell_type": "code",
   "execution_count": null,
   "metadata": {},
   "outputs": [],
   "source": [
    "!pip install pytorch-lightning\n",
    "!pip install sqlalchemy\n",
    "!wget https://storage.googleapis.com/chesspic/datasets/2021-07-31-lichess-evaluations-37MM.db.gz\n",
    "!gzip -d \"2021-07-31-lichess-evaluations-37MM.db.gz\""
   ]
  },
  {
   "cell_type": "code",
   "execution_count": null,
   "metadata": {},
   "outputs": [],
   "source": [
    "from sqlalchemy import *\n",
    "import base64\n",
    "\n",
    "db = create_engine(\"sqlite:///2021-07-31-lichess-evaluations-37MM.db\")\n",
    "LABEL_COUNT = 37164639\n",
    "\n",
    "metadata = MetaData()\n",
    "evaluations = Table(\n",
    "    \"evaluations\",\n",
    "    metadata,\n",
    "    Column(\"id\", Integer, primary_key=True),\n",
    "    Column(\"fen\", Text),\n",
    "    Column(\"binary\", LargeBinary),\n",
    "    Column(\"eval\", Float),\n",
    ")\n",
    "\n",
    "metadata.create_all(db)\n",
    "\n",
    "\n",
    "def binary_base64(binary):\n",
    "    return base64.b64encode(binary)\n"
   ]
  },
  {
   "cell_type": "code",
   "execution_count": null,
   "metadata": {},
   "outputs": [],
   "source": [
    "import numpy as np\n",
    "from torch.utils.data import IterableDataset\n",
    "from random import randrange\n",
    "\n",
    "\n",
    "class EvaluationDataset(IterableDataset):\n",
    "    def __init__(self, count):\n",
    "        self.count = count\n",
    "\n",
    "    def __iter__(self):\n",
    "        return self\n",
    "\n",
    "    def __next__(self):\n",
    "        idx = randrange(self.count)\n",
    "        return self[idx]\n",
    "\n",
    "    def __len__(self):\n",
    "        return self.count\n",
    "\n",
    "    def __getitem__(self, idx):\n",
    "        with db.connect() as conn:\n",
    "            query = evaluations.select().where(evaluations.c.id == idx + 1)\n",
    "            result = conn.execute(query)\n",
    "            eval = result.fetchone()\n",
    "            bin = np.frombuffer(eval.binary, dtype=np.uint8)\n",
    "            bin = np.unpackbits(bin, axis=0).astype(np.single)\n",
    "            eval.eval = max(eval.eval, -15)\n",
    "            eval.eval = min(eval.eval, 15)\n",
    "            ev = np.array([eval.eval]).astype(np.single)\n",
    "        return {\"binary\": bin, \"eval\": ev}\n",
    "\n",
    "\n",
    "dataset = EvaluationDataset(count=LABEL_COUNT)\n"
   ]
  }
 ],
 "metadata": {
  "kernelspec": {
   "display_name": "Python 3",
   "language": "python",
   "name": "python3"
  },
  "language_info": {
   "name": "python",
   "version": "3.11.0"
  },
  "orig_nbformat": 4,
  "vscode": {
   "interpreter": {
    "hash": "3fa3f6b444955716f022e586d9e4fb485dbbadabc65d2f422f977dc07b3eca75"
   }
  }
 },
 "nbformat": 4,
 "nbformat_minor": 2
}
